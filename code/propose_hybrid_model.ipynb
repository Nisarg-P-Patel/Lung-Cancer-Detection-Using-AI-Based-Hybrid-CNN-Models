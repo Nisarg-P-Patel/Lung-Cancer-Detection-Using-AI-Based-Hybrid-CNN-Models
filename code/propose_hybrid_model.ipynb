{
  "nbformat": 4,
  "nbformat_minor": 0,
  "metadata": {
    "colab": {
      "provenance": []
    },
    "kernelspec": {
      "name": "python3",
      "display_name": "Python 3"
    },
    "language_info": {
      "name": "python"
    },
    "accelerator": "GPU",
    "gpuClass": "standard"
  },
  "cells": [
    {
      "cell_type": "code",
      "execution_count": null,
      "metadata": {
        "colab": {
          "base_uri": "https://localhost:8080/"
        },
        "id": "N-1rV93VEEeE",
        "outputId": "2a2c636d-d7c9-45ef-8d82-277e79c90f60"
      },
      "outputs": [
        {
          "output_type": "stream",
          "name": "stdout",
          "text": [
            "Drive already mounted at /content/drive; to attempt to forcibly remount, call drive.mount(\"/content/drive\", force_remount=True).\n"
          ]
        }
      ],
      "source": [
        "from google.colab import drive\n",
        "drive.mount('/content/drive')"
      ]
    },
    {
      "cell_type": "code",
      "source": [
        "import pandas as pd\n",
        "import numpy as np\n",
        "import os\n",
        "from shutil import copy\n",
        "from zipfile import ZipFile\n",
        "import matplotlib.pyplot as plt\n",
        "import cv2\n",
        "from keras.models import Sequential,Model\n",
        "from keras.layers import Dense,Dropout,Activation,Flatten,GlobalAveragePooling2D\n",
        "from keras.layers import Conv2D,MaxPooling2D,ZeroPadding2D\n",
        "from keras.layers import BatchNormalization\n",
        "from tensorflow.keras.preprocessing.image import ImageDataGenerator\n",
        "from keras.callbacks import ModelCheckpoint,EarlyStopping,ReduceLROnPlateau\n",
        "from matplotlib import pyplot as plt\n",
        "from matplotlib import image\n",
        "from sklearn.model_selection import KFold\n",
        "\n",
        "from tensorflow.keras.applications import MobileNet,VGG19,InceptionV3,ResNet152V2,InceptionResNetV2,Xception,DenseNet201, DenseNet169\n",
        "from tensorflow.keras.applications import MobileNet, DenseNet169, ResNet50, EfficientNetB2, EfficientNetB4, Xception, InceptionV3\n",
        "from keras.layers import GlobalAveragePooling2D\n",
        "from tensorflow.keras.models import Sequential,Model\n",
        "from tensorflow.keras.layers import Dense,Dropout,Activation,Flatten,GlobalMaxPooling2D,Conv2D,MaxPooling2D,ZeroPadding2D,AvgPool2D,Input,Lambda,Concatenate,LeakyReLU\n",
        "from tensorflow.keras.layers import BatchNormalization\n",
        "from keras.preprocessing.image import ImageDataGenerator\n",
        "from keras.callbacks import ModelCheckpoint,EarlyStopping,ReduceLROnPlateau\n",
        "from matplotlib import pyplot as plt\n",
        "import numpy as np\n",
        "import cv2\n",
        "from matplotlib import image\n",
        "from keras import applications\n",
        "from keras.utils.vis_utils import plot_model"
      ],
      "metadata": {
        "id": "_PsNUaecEPIO"
      },
      "execution_count": null,
      "outputs": []
    },
    {
      "cell_type": "code",
      "source": [
        "data_path = \"/content/drive/MyDrive/CSE572-DM/Final_Project/new_data/\""
      ],
      "metadata": {
        "id": "row84e_oEPEz"
      },
      "execution_count": null,
      "outputs": []
    },
    {
      "cell_type": "code",
      "source": [
        "train_set = data_path + 'train/'\n",
        "val_set = data_path + 'valid/'\n",
        "test_set = data_path + 'test/'\n",
        "epochs = 50"
      ],
      "metadata": {
        "id": "-bUwMUT5EPCh"
      },
      "execution_count": null,
      "outputs": []
    },
    {
      "cell_type": "code",
      "source": [
        "train_datagen = ImageDataGenerator(\n",
        "    rotation_range=15,\n",
        "    shear_range=0.2,\n",
        "    zoom_range=0.2,\n",
        "    horizontal_flip=True,\n",
        "    fill_mode='nearest',\n",
        "    width_shift_range=0.1,\n",
        "    height_shift_range=0.1,\n",
        "    rescale=1. / 255\n",
        ")\n",
        "val_datagen= ImageDataGenerator(\n",
        "    rotation_range=15,\n",
        "    shear_range=0.2,\n",
        "    zoom_range=0.2,\n",
        "    horizontal_flip=True,\n",
        "    fill_mode='nearest',\n",
        "    width_shift_range=0.1,\n",
        "    height_shift_range=0.1,\n",
        "    rescale=1. / 255)\n",
        "test_datagen= ImageDataGenerator(\n",
        "    rescale=1. / 255\n",
        ")"
      ],
      "metadata": {
        "id": "NSVcjQqGEO_-"
      },
      "execution_count": null,
      "outputs": []
    },
    {
      "cell_type": "code",
      "source": [
        "train_generator = train_datagen.flow_from_directory(\n",
        "    train_set,\n",
        "    target_size = (224,224),\n",
        "    batch_size = 8,\n",
        "    class_mode = 'categorical')\n",
        "test_generator = test_datagen.flow_from_directory(\n",
        "    test_set,\n",
        "    target_size = (224,224),\n",
        "    batch_size = 8,\n",
        "    shuffle=True,\n",
        "    class_mode = 'categorical')\n",
        "validation_generator = test_datagen.flow_from_directory(\n",
        "    val_set,\n",
        "    target_size = (224,224),\n",
        "    batch_size = 8,\n",
        "    shuffle=True,\n",
        "    class_mode = 'categorical')"
      ],
      "metadata": {
        "colab": {
          "base_uri": "https://localhost:8080/"
        },
        "id": "NfFozvCgEjSi",
        "outputId": "7dd383d3-93e0-4e61-8eba-9af6b96e4c7f"
      },
      "execution_count": null,
      "outputs": [
        {
          "output_type": "stream",
          "name": "stdout",
          "text": [
            "Found 613 images belonging to 4 classes.\n",
            "Found 315 images belonging to 4 classes.\n",
            "Found 72 images belonging to 4 classes.\n"
          ]
        }
      ]
    },
    {
      "cell_type": "code",
      "source": [
        "def load_models(SHAPE):\n",
        "    vgg19 = VGG19(weights = 'imagenet', include_top = False, input_shape = SHAPE)\n",
        "    resnet = ResNet152V2(weights = 'imagenet', include_top = False, input_shape = SHAPE)\n",
        "    mobilenet = MobileNet(weights = 'imagenet', include_top = False, input_shape = SHAPE)\n",
        "    inception = InceptionV3(weights = 'imagenet', include_top = False, input_shape = SHAPE)\n",
        "    inception_resnet = InceptionResNetV2(weights = 'imagenet', include_top = False, input_shape = SHAPE)\n",
        "    xception = Xception(weights = 'imagenet', include_top = False, input_shape = SHAPE)\n",
        "    densenet = DenseNet169(weights = 'imagenet', include_top = False, input_shape = SHAPE)\n",
        "\n",
        "    # for layer in vgg19.layers:\n",
        "    #     layer.trainable = False\n",
        "\n",
        "    # for layer in resnet.layers:\n",
        "    #     layer.trainable = False\n",
        "\n",
        "    # for layer in mobilenet.layers:\n",
        "    #     layer.trainable = False\n",
        "\n",
        "    # for layer in inception.layers:\n",
        "    #     layer.trainable = False\n",
        "\n",
        "    # for layer in inception_resnet.layers:\n",
        "    #     layer.trainable = False\n",
        "\n",
        "    # for layer in xception.layers:\n",
        "    #     layer.trainable = False\n",
        "\n",
        "    # for layer in densenet.layers:\n",
        "    #     layer.trainable = False\n",
        "\n",
        "    return vgg19,resnet,mobilenet,inception,inception_resnet,xception,densenet\n"
      ],
      "metadata": {
        "id": "buAPNH10EjPH"
      },
      "execution_count": null,
      "outputs": []
    },
    {
      "cell_type": "code",
      "source": [
        "vgg19,resnet,mobilenet,inception,inception_resent,xception,densenet = load_models((224,224,3))"
      ],
      "metadata": {
        "id": "oc0o2-odEjMw"
      },
      "execution_count": null,
      "outputs": []
    },
    {
      "cell_type": "code",
      "source": [
        "inp = Input((224,224,3))"
      ],
      "metadata": {
        "id": "pFRHm23hFJ_h"
      },
      "execution_count": null,
      "outputs": []
    },
    {
      "cell_type": "code",
      "source": [
        "#all major pretrained models\n",
        "vgg_19 = vgg19(inp)\n",
        "x_vgg_19 = GlobalMaxPooling2D()(vgg_19)\n",
        "x_vgg_19 = Flatten()(x_vgg_19)\n",
        "x_vgg_19 = Dense(16,activation='relu')(x_vgg_19)\n",
        "x_vgg_19 = Dense(8, activation='relu')(x_vgg_19)\n",
        "\n",
        "resnet = resnet(inp)\n",
        "x_resnet = GlobalMaxPooling2D()(resnet)\n",
        "x_resnet = Flatten()(x_resnet)\n",
        "x_resnet = Dense(16,activation='relu')(x_resnet)\n",
        "x_resnet = Dense(8, activation='relu')(x_resnet)\n",
        "\n",
        "\n",
        "mobilenet = mobilenet(inp)\n",
        "x_mobilenet = GlobalMaxPooling2D()(mobilenet)\n",
        "x_mobilenet = Dropout(0.2)(x_mobilenet)\n",
        "x_mobilenet = Flatten()(x_mobilenet)\n",
        "x_mobilenet = Dense(16,activation='relu')(x_mobilenet)\n",
        "x_mobilenet = Dense(8, activation='relu')(x_mobilenet)\n",
        "\n",
        "inception = inception(inp)\n",
        "x_inception = GlobalMaxPooling2D()(inception)\n",
        "x_inception = Flatten()(x_inception)\n",
        "x_inception = Dropout(0.2)(x_inception)\n",
        "x_inception = Dense(16,activation='relu')(x_inception)\n",
        "x_inception = Dense(8, activation='relu')(x_inception)\n",
        "\n",
        "inception_resent = inception_resent(inp)\n",
        "x_inception_resent = GlobalMaxPooling2D()(inception_resent)\n",
        "x_inception_resent = Dropout(0.2)(x_inception_resent)\n",
        "x_inception_resent = Flatten()(x_inception_resent)\n",
        "x_inception_resent = Dense(16,activation='relu')(x_inception_resent)\n",
        "x_inception_resent = Dense(8, activation='relu')(x_inception_resent)\n",
        "\n",
        "xception = xception(inp)\n",
        "x_xception = GlobalMaxPooling2D()(xception)\n",
        "x_xception = Flatten()(x_xception)\n",
        "x_xception = Dropout(0.2)(x_xception)\n",
        "x_xception = Dense(16,activation='relu')(x_xception)\n",
        "x_xception = Dense(8, activation='relu')(x_xception)\n",
        "\n",
        "densenet = densenet(inp)\n",
        "x_densenet = GlobalMaxPooling2D()(densenet)\n",
        "x_densenet = Dropout(0.2)(x_densenet)\n",
        "x_densenet = Flatten()(x_densenet)\n",
        "x_densenet = Dense(16,activation='relu')(x_densenet)\n",
        "x_densenet = Dense(8, activation='relu')(x_densenet)"
      ],
      "metadata": {
        "id": "xUIQxy5xFJ7-"
      },
      "execution_count": null,
      "outputs": []
    },
    {
      "cell_type": "code",
      "source": [
        "x = Concatenate()([x_densenet,x_mobilenet])\n",
        "out = Dense(4, activation='sigmoid')(x)\n",
        "model = Model(inp, out)\n",
        "#model.compile(loss='binary_crossentropy', optimizer='adam', metrics='accuracy')"
      ],
      "metadata": {
        "id": "pxZQG-gcFJ51"
      },
      "execution_count": null,
      "outputs": []
    },
    {
      "cell_type": "code",
      "source": [
        "model.compile(loss='categorical_crossentropy',\n",
        "              optimizer='adam',\n",
        "              metrics=['accuracy','Precision','Recall'])\n",
        "\n",
        "\n",
        "model.summary()"
      ],
      "metadata": {
        "colab": {
          "base_uri": "https://localhost:8080/"
        },
        "id": "FXIweBwiFJ3b",
        "outputId": "67a9851e-a0b5-4ca8-8169-30737c434237"
      },
      "execution_count": null,
      "outputs": [
        {
          "output_type": "stream",
          "name": "stdout",
          "text": [
            "Model: \"model_11\"\n",
            "__________________________________________________________________________________________________\n",
            " Layer (type)                   Output Shape         Param #     Connected to                     \n",
            "==================================================================================================\n",
            " input_36 (InputLayer)          [(None, 224, 224, 3  0           []                               \n",
            "                                )]                                                                \n",
            "                                                                                                  \n",
            " densenet169 (Functional)       (None, 7, 7, 1664)   12642880    ['input_36[0][0]']               \n",
            "                                                                                                  \n",
            " mobilenet_1.00_224 (Functional  (None, 7, 7, 1024)  3228864     ['input_36[0][0]']               \n",
            " )                                                                                                \n",
            "                                                                                                  \n",
            " global_max_pooling2d_27 (Globa  (None, 1664)        0           ['densenet169[0][0]']            \n",
            " lMaxPooling2D)                                                                                   \n",
            "                                                                                                  \n",
            " global_max_pooling2d_23 (Globa  (None, 1024)        0           ['mobilenet_1.00_224[0][0]']     \n",
            " lMaxPooling2D)                                                                                   \n",
            "                                                                                                  \n",
            " dropout_23 (Dropout)           (None, 1664)         0           ['global_max_pooling2d_27[0][0]']\n",
            "                                                                                                  \n",
            " dropout_19 (Dropout)           (None, 1024)         0           ['global_max_pooling2d_23[0][0]']\n",
            "                                                                                                  \n",
            " flatten_27 (Flatten)           (None, 1664)         0           ['dropout_23[0][0]']             \n",
            "                                                                                                  \n",
            " flatten_23 (Flatten)           (None, 1024)         0           ['dropout_19[0][0]']             \n",
            "                                                                                                  \n",
            " dense_78 (Dense)               (None, 16)           26640       ['flatten_27[0][0]']             \n",
            "                                                                                                  \n",
            " dense_70 (Dense)               (None, 16)           16400       ['flatten_23[0][0]']             \n",
            "                                                                                                  \n",
            " dense_79 (Dense)               (None, 8)            136         ['dense_78[0][0]']               \n",
            "                                                                                                  \n",
            " dense_71 (Dense)               (None, 8)            136         ['dense_70[0][0]']               \n",
            "                                                                                                  \n",
            " concatenate_18 (Concatenate)   (None, 16)           0           ['dense_79[0][0]',               \n",
            "                                                                  'dense_71[0][0]']               \n",
            "                                                                                                  \n",
            " dense_80 (Dense)               (None, 4)            68          ['concatenate_18[0][0]']         \n",
            "                                                                                                  \n",
            "==================================================================================================\n",
            "Total params: 15,915,124\n",
            "Trainable params: 15,734,836\n",
            "Non-trainable params: 180,288\n",
            "__________________________________________________________________________________________________\n"
          ]
        }
      ]
    },
    {
      "cell_type": "code",
      "source": [
        "filepath =  '/content/saved-model-{epoch:02d}-acc_{val_accuracy:.4f}-pre_{val_precision:.4f}-rec_{val_recall:.4f}.hdf5'\n",
        "\n",
        "checkpoint = ModelCheckpoint(filepath,\n",
        "                             monitor='val_accuracy',\n",
        "                             save_best_only=True,\n",
        "                             mode='max')\n",
        "\n",
        "earlystop = EarlyStopping(\n",
        "                          monitor='val_loss',\n",
        "                          min_delta=0,\n",
        "                          patience=10,\n",
        "                          restore_best_weights=True)\n",
        "\n",
        "learning_rate_reduction = ReduceLROnPlateau(monitor='val_accuracy',\n",
        "                                            patience=5,\n",
        "                                            verbose=1,\n",
        "                                            factor=0.2,\n",
        "                                            min_lr=0.0001)\n",
        "\n",
        "callbacks = [checkpoint,earlystop,learning_rate_reduction]"
      ],
      "metadata": {
        "id": "az7qJ7tPFTVu"
      },
      "execution_count": null,
      "outputs": []
    },
    {
      "cell_type": "code",
      "source": [
        "history = model.fit_generator(\n",
        "    train_generator,\n",
        "    epochs = epochs,\n",
        "    validation_data = validation_generator,\n",
        "    callbacks = callbacks\n",
        ")"
      ],
      "metadata": {
        "colab": {
          "base_uri": "https://localhost:8080/"
        },
        "id": "WKItHtsSFTSG",
        "outputId": "304b7f26-b2d9-4d86-d3a7-5bdd5e7a0253"
      },
      "execution_count": null,
      "outputs": [
        {
          "output_type": "stream",
          "name": "stdout",
          "text": [
            "Epoch 1/50\n"
          ]
        },
        {
          "output_type": "stream",
          "name": "stderr",
          "text": [
            "<ipython-input-73-7aa2667a7b13>:1: UserWarning: `Model.fit_generator` is deprecated and will be removed in a future version. Please use `Model.fit`, which supports generators.\n",
            "  history = model.fit_generator(\n"
          ]
        },
        {
          "output_type": "stream",
          "name": "stdout",
          "text": [
            "77/77 [==============================] - 41s 287ms/step - loss: 1.5532 - accuracy: 0.3801 - precision: 0.3309 - recall: 0.5856 - val_loss: 2.7669 - val_accuracy: 0.1806 - val_precision: 0.2158 - val_recall: 0.4167 - lr: 0.0010\n",
            "Epoch 2/50\n",
            "77/77 [==============================] - 17s 220ms/step - loss: 1.1659 - accuracy: 0.4829 - precision: 0.3350 - recall: 0.6444 - val_loss: 1.1005 - val_accuracy: 0.4722 - val_precision: 0.3301 - val_recall: 0.4722 - lr: 0.0010\n",
            "Epoch 3/50\n",
            "77/77 [==============================] - 15s 194ms/step - loss: 1.0333 - accuracy: 0.5318 - precision: 0.3419 - recall: 0.8271 - val_loss: 1.6988 - val_accuracy: 0.4028 - val_precision: 0.3200 - val_recall: 0.2222 - lr: 0.0010\n",
            "Epoch 4/50\n",
            "77/77 [==============================] - 17s 221ms/step - loss: 1.1534 - accuracy: 0.4747 - precision: 0.3227 - recall: 0.6623 - val_loss: 0.9427 - val_accuracy: 0.4861 - val_precision: 0.3300 - val_recall: 0.9306 - lr: 0.0010\n",
            "Epoch 5/50\n",
            "77/77 [==============================] - 15s 194ms/step - loss: 0.9702 - accuracy: 0.5106 - precision: 0.3251 - recall: 0.9282 - val_loss: 1.1016 - val_accuracy: 0.4306 - val_precision: 0.3368 - val_recall: 0.8889 - lr: 0.0010\n",
            "Epoch 6/50\n",
            "77/77 [==============================] - 17s 217ms/step - loss: 0.9110 - accuracy: 0.5237 - precision: 0.3306 - recall: 0.9723 - val_loss: 0.9879 - val_accuracy: 0.5000 - val_precision: 0.3333 - val_recall: 1.0000 - lr: 0.0010\n",
            "Epoch 7/50\n",
            "77/77 [==============================] - 15s 192ms/step - loss: 0.9224 - accuracy: 0.5220 - precision: 0.3274 - recall: 0.9560 - val_loss: 0.9654 - val_accuracy: 0.4722 - val_precision: 0.3087 - val_recall: 0.9861 - lr: 0.0010\n",
            "Epoch 8/50\n",
            "77/77 [==============================] - 15s 196ms/step - loss: 0.8477 - accuracy: 0.5367 - precision: 0.3311 - recall: 0.9739 - val_loss: 0.9166 - val_accuracy: 0.5000 - val_precision: 0.3333 - val_recall: 1.0000 - lr: 0.0010\n",
            "Epoch 9/50\n",
            "77/77 [==============================] - 17s 217ms/step - loss: 0.9052 - accuracy: 0.5269 - precision: 0.3300 - recall: 0.9706 - val_loss: 0.9521 - val_accuracy: 0.5139 - val_precision: 0.3288 - val_recall: 1.0000 - lr: 0.0010\n",
            "Epoch 10/50\n",
            "77/77 [==============================] - 15s 191ms/step - loss: 0.8501 - accuracy: 0.5481 - precision: 0.3307 - recall: 0.9706 - val_loss: 1.0130 - val_accuracy: 0.5000 - val_precision: 0.3180 - val_recall: 0.9583 - lr: 0.0010\n",
            "Epoch 11/50\n",
            "77/77 [==============================] - 15s 193ms/step - loss: 0.8780 - accuracy: 0.5726 - precision: 0.3278 - recall: 0.9608 - val_loss: 1.3659 - val_accuracy: 0.4861 - val_precision: 0.3052 - val_recall: 0.9028 - lr: 0.0010\n",
            "Epoch 12/50\n",
            "77/77 [==============================] - 15s 193ms/step - loss: 0.8624 - accuracy: 0.5628 - precision: 0.3273 - recall: 0.9413 - val_loss: 0.9706 - val_accuracy: 0.5139 - val_precision: 0.3300 - val_recall: 0.9167 - lr: 0.0010\n",
            "Epoch 13/50\n",
            "77/77 [==============================] - 17s 222ms/step - loss: 0.7706 - accuracy: 0.6199 - precision: 0.3273 - recall: 0.9739 - val_loss: 1.2995 - val_accuracy: 0.5139 - val_precision: 0.2939 - val_recall: 0.9306 - lr: 0.0010\n",
            "Epoch 14/50\n",
            "77/77 [==============================] - 18s 228ms/step - loss: 0.7255 - accuracy: 0.6411 - precision: 0.3253 - recall: 0.9902 - val_loss: 0.8664 - val_accuracy: 0.6111 - val_precision: 0.3287 - val_recall: 0.9861 - lr: 0.0010\n",
            "Epoch 15/50\n",
            "77/77 [==============================] - 15s 193ms/step - loss: 0.7678 - accuracy: 0.6558 - precision: 0.3099 - recall: 0.9902 - val_loss: 1.5891 - val_accuracy: 0.3750 - val_precision: 0.2780 - val_recall: 1.0000 - lr: 0.0010\n",
            "Epoch 16/50\n",
            "77/77 [==============================] - 15s 197ms/step - loss: 0.9175 - accuracy: 0.5905 - precision: 0.3014 - recall: 0.9804 - val_loss: 0.9241 - val_accuracy: 0.5833 - val_precision: 0.3087 - val_recall: 0.9861 - lr: 0.0010\n",
            "Epoch 17/50\n",
            "77/77 [==============================] - 15s 197ms/step - loss: 0.6648 - accuracy: 0.6460 - precision: 0.3066 - recall: 0.9902 - val_loss: 1.0415 - val_accuracy: 0.5833 - val_precision: 0.3158 - val_recall: 1.0000 - lr: 0.0010\n",
            "Epoch 18/50\n",
            "77/77 [==============================] - 17s 223ms/step - loss: 0.6799 - accuracy: 0.6460 - precision: 0.3055 - recall: 0.9918 - val_loss: 0.7245 - val_accuracy: 0.7083 - val_precision: 0.3103 - val_recall: 1.0000 - lr: 0.0010\n",
            "Epoch 19/50\n",
            "77/77 [==============================] - 15s 195ms/step - loss: 0.6592 - accuracy: 0.6558 - precision: 0.3065 - recall: 0.9951 - val_loss: 0.7398 - val_accuracy: 0.6944 - val_precision: 0.3064 - val_recall: 1.0000 - lr: 0.0010\n",
            "Epoch 20/50\n",
            "77/77 [==============================] - 15s 195ms/step - loss: 0.6955 - accuracy: 0.6656 - precision: 0.3035 - recall: 0.9951 - val_loss: 0.8843 - val_accuracy: 0.5556 - val_precision: 0.3051 - val_recall: 1.0000 - lr: 0.0010\n",
            "Epoch 21/50\n",
            "77/77 [==============================] - 15s 197ms/step - loss: 0.6174 - accuracy: 0.6835 - precision: 0.3050 - recall: 0.9886 - val_loss: 0.6157 - val_accuracy: 0.6806 - val_precision: 0.3074 - val_recall: 0.9861 - lr: 0.0010\n",
            "Epoch 22/50\n",
            "77/77 [==============================] - 15s 191ms/step - loss: 0.6432 - accuracy: 0.6737 - precision: 0.3048 - recall: 0.9984 - val_loss: 0.7042 - val_accuracy: 0.6806 - val_precision: 0.3130 - val_recall: 1.0000 - lr: 0.0010\n",
            "Epoch 23/50\n",
            "77/77 [==============================] - ETA: 0s - loss: 0.6510 - accuracy: 0.6607 - precision: 0.3038 - recall: 0.9918\n",
            "Epoch 23: ReduceLROnPlateau reducing learning rate to 0.00020000000949949026.\n",
            "77/77 [==============================] - 15s 196ms/step - loss: 0.6510 - accuracy: 0.6607 - precision: 0.3038 - recall: 0.9918 - val_loss: 1.3382 - val_accuracy: 0.4444 - val_precision: 0.2769 - val_recall: 1.0000 - lr: 0.0010\n",
            "Epoch 24/50\n",
            "77/77 [==============================] - 17s 218ms/step - loss: 0.5976 - accuracy: 0.6998 - precision: 0.3053 - recall: 0.9951 - val_loss: 0.6760 - val_accuracy: 0.7222 - val_precision: 0.3051 - val_recall: 1.0000 - lr: 2.0000e-04\n",
            "Epoch 25/50\n",
            "77/77 [==============================] - 16s 199ms/step - loss: 0.5330 - accuracy: 0.7080 - precision: 0.3074 - recall: 1.0000 - val_loss: 0.5888 - val_accuracy: 0.7083 - val_precision: 0.3117 - val_recall: 1.0000 - lr: 2.0000e-04\n",
            "Epoch 26/50\n",
            "77/77 [==============================] - 17s 221ms/step - loss: 0.4840 - accuracy: 0.7210 - precision: 0.3070 - recall: 1.0000 - val_loss: 0.6036 - val_accuracy: 0.7361 - val_precision: 0.3103 - val_recall: 1.0000 - lr: 2.0000e-04\n",
            "Epoch 27/50\n",
            "77/77 [==============================] - 15s 198ms/step - loss: 0.4878 - accuracy: 0.7341 - precision: 0.3062 - recall: 1.0000 - val_loss: 0.5831 - val_accuracy: 0.7222 - val_precision: 0.3103 - val_recall: 1.0000 - lr: 2.0000e-04\n",
            "Epoch 28/50\n",
            "77/77 [==============================] - 15s 196ms/step - loss: 0.4428 - accuracy: 0.7537 - precision: 0.3057 - recall: 0.9984 - val_loss: 0.6126 - val_accuracy: 0.7083 - val_precision: 0.3090 - val_recall: 1.0000 - lr: 2.0000e-04\n",
            "Epoch 29/50\n",
            "77/77 [==============================] - 15s 199ms/step - loss: 0.3977 - accuracy: 0.7847 - precision: 0.3051 - recall: 1.0000 - val_loss: 0.5464 - val_accuracy: 0.7361 - val_precision: 0.3090 - val_recall: 1.0000 - lr: 2.0000e-04\n",
            "Epoch 30/50\n",
            "77/77 [==============================] - 15s 195ms/step - loss: 0.3924 - accuracy: 0.8059 - precision: 0.3051 - recall: 1.0000 - val_loss: 0.5840 - val_accuracy: 0.7222 - val_precision: 0.3025 - val_recall: 1.0000 - lr: 2.0000e-04\n",
            "Epoch 31/50\n",
            "77/77 [==============================] - ETA: 0s - loss: 0.4100 - accuracy: 0.7993 - precision: 0.3006 - recall: 1.0000\n",
            "Epoch 31: ReduceLROnPlateau reducing learning rate to 0.0001.\n",
            "77/77 [==============================] - 17s 226ms/step - loss: 0.4100 - accuracy: 0.7993 - precision: 0.3006 - recall: 1.0000 - val_loss: 0.6170 - val_accuracy: 0.7083 - val_precision: 0.3013 - val_recall: 1.0000 - lr: 2.0000e-04\n",
            "Epoch 32/50\n",
            "77/77 [==============================] - 15s 197ms/step - loss: 0.3904 - accuracy: 0.8287 - precision: 0.3012 - recall: 1.0000 - val_loss: 0.5327 - val_accuracy: 0.7222 - val_precision: 0.3025 - val_recall: 1.0000 - lr: 1.0000e-04\n",
            "Epoch 33/50\n",
            "77/77 [==============================] - 15s 197ms/step - loss: 0.3499 - accuracy: 0.8287 - precision: 0.3002 - recall: 1.0000 - val_loss: 0.5326 - val_accuracy: 0.7361 - val_precision: 0.3000 - val_recall: 1.0000 - lr: 1.0000e-04\n",
            "Epoch 34/50\n",
            "77/77 [==============================] - 15s 197ms/step - loss: 0.3396 - accuracy: 0.8499 - precision: 0.2976 - recall: 1.0000 - val_loss: 0.5261 - val_accuracy: 0.7222 - val_precision: 0.2975 - val_recall: 1.0000 - lr: 1.0000e-04\n",
            "Epoch 35/50\n",
            "77/77 [==============================] - 15s 200ms/step - loss: 0.3254 - accuracy: 0.8581 - precision: 0.2973 - recall: 1.0000 - val_loss: 0.4913 - val_accuracy: 0.7222 - val_precision: 0.3038 - val_recall: 1.0000 - lr: 1.0000e-04\n",
            "Epoch 36/50\n",
            "77/77 [==============================] - 17s 219ms/step - loss: 0.3296 - accuracy: 0.8679 - precision: 0.3002 - recall: 1.0000 - val_loss: 0.5578 - val_accuracy: 0.7500 - val_precision: 0.2975 - val_recall: 1.0000 - lr: 1.0000e-04\n",
            "Epoch 37/50\n",
            "77/77 [==============================] - 15s 193ms/step - loss: 0.3246 - accuracy: 0.8515 - precision: 0.2954 - recall: 1.0000 - val_loss: 0.5122 - val_accuracy: 0.7500 - val_precision: 0.2975 - val_recall: 1.0000 - lr: 1.0000e-04\n",
            "Epoch 38/50\n",
            "77/77 [==============================] - 15s 197ms/step - loss: 0.3174 - accuracy: 0.8825 - precision: 0.2964 - recall: 1.0000 - val_loss: 0.4760 - val_accuracy: 0.7500 - val_precision: 0.3038 - val_recall: 1.0000 - lr: 1.0000e-04\n",
            "Epoch 39/50\n",
            "77/77 [==============================] - 17s 219ms/step - loss: 0.2588 - accuracy: 0.8842 - precision: 0.2943 - recall: 1.0000 - val_loss: 0.4993 - val_accuracy: 0.7917 - val_precision: 0.2988 - val_recall: 1.0000 - lr: 1.0000e-04\n",
            "Epoch 40/50\n",
            "77/77 [==============================] - 17s 222ms/step - loss: 0.2591 - accuracy: 0.8972 - precision: 0.2936 - recall: 1.0000 - val_loss: 0.4341 - val_accuracy: 0.8194 - val_precision: 0.3013 - val_recall: 1.0000 - lr: 1.0000e-04\n",
            "Epoch 41/50\n",
            "77/77 [==============================] - 17s 219ms/step - loss: 0.2528 - accuracy: 0.9070 - precision: 0.2919 - recall: 1.0000 - val_loss: 0.4377 - val_accuracy: 0.8333 - val_precision: 0.2975 - val_recall: 1.0000 - lr: 1.0000e-04\n",
            "Epoch 42/50\n",
            "77/77 [==============================] - 17s 219ms/step - loss: 0.2291 - accuracy: 0.9217 - precision: 0.2913 - recall: 1.0000 - val_loss: 0.4428 - val_accuracy: 0.8472 - val_precision: 0.2951 - val_recall: 1.0000 - lr: 1.0000e-04\n",
            "Epoch 43/50\n",
            "77/77 [==============================] - 15s 198ms/step - loss: 0.2269 - accuracy: 0.9054 - precision: 0.2923 - recall: 1.0000 - val_loss: 0.4320 - val_accuracy: 0.8472 - val_precision: 0.3013 - val_recall: 1.0000 - lr: 1.0000e-04\n",
            "Epoch 44/50\n",
            "77/77 [==============================] - 17s 222ms/step - loss: 0.2083 - accuracy: 0.9184 - precision: 0.2896 - recall: 1.0000 - val_loss: 0.4213 - val_accuracy: 0.8889 - val_precision: 0.2939 - val_recall: 1.0000 - lr: 1.0000e-04\n",
            "Epoch 45/50\n",
            "77/77 [==============================] - 15s 196ms/step - loss: 0.2239 - accuracy: 0.9282 - precision: 0.2909 - recall: 1.0000 - val_loss: 0.4743 - val_accuracy: 0.8333 - val_precision: 0.3013 - val_recall: 1.0000 - lr: 1.0000e-04\n",
            "Epoch 46/50\n",
            "77/77 [==============================] - 15s 199ms/step - loss: 0.2218 - accuracy: 0.9217 - precision: 0.2899 - recall: 0.9984 - val_loss: 0.4098 - val_accuracy: 0.8750 - val_precision: 0.2951 - val_recall: 1.0000 - lr: 1.0000e-04\n",
            "Epoch 47/50\n",
            "77/77 [==============================] - 15s 198ms/step - loss: 0.1937 - accuracy: 0.9299 - precision: 0.2894 - recall: 1.0000 - val_loss: 0.3994 - val_accuracy: 0.8333 - val_precision: 0.2939 - val_recall: 1.0000 - lr: 1.0000e-04\n",
            "Epoch 48/50\n",
            "77/77 [==============================] - 15s 195ms/step - loss: 0.1851 - accuracy: 0.9315 - precision: 0.2883 - recall: 1.0000 - val_loss: 0.4697 - val_accuracy: 0.8194 - val_precision: 0.3013 - val_recall: 1.0000 - lr: 1.0000e-04\n",
            "Epoch 49/50\n",
            "77/77 [==============================] - 18s 228ms/step - loss: 0.1612 - accuracy: 0.9364 - precision: 0.2867 - recall: 1.0000 - val_loss: 0.3280 - val_accuracy: 0.8889 - val_precision: 0.2951 - val_recall: 1.0000 - lr: 1.0000e-04\n",
            "Epoch 50/50\n",
            "77/77 [==============================] - 17s 221ms/step - loss: 0.1700 - accuracy: 0.9364 - precision: 0.2881 - recall: 1.0000 - val_loss: 0.3519 - val_accuracy: 0.9167 - val_precision: 0.2927 - val_recall: 1.0000 - lr: 1.0000e-04\n"
          ]
        }
      ]
    },
    {
      "cell_type": "code",
      "source": [],
      "metadata": {
        "id": "gcsJJ_O2LueJ"
      },
      "execution_count": null,
      "outputs": []
    },
    {
      "cell_type": "code",
      "source": [
        "def plot_training(hist):\n",
        "    tr_acc = hist.history['accuracy']\n",
        "    tr_loss = hist.history['loss']\n",
        "    val_acc = hist.history['val_accuracy']\n",
        "    val_loss = hist.history['val_loss']\n",
        "    index_loss = np.argmin(val_loss)     # get number of epoch with the lowest validation loss\n",
        "    val_lowest = val_loss[index_loss]    # get the loss value of epoch with the lowest validation loss\n",
        "    index_acc = np.argmax(val_acc)       # get number of epoch with the highest validation accuracy\n",
        "    acc_highest = val_acc[index_acc]     # get the loss value of epoch with the highest validation accuracy\n",
        "\n",
        "    plt.figure(figsize= (20, 8))\n",
        "    plt.style.use('fivethirtyeight')\n",
        "    Epochs = [i+1 for i in range(len(tr_acc))]\t       # create x-axis by epochs count\n",
        "    loss_label = f'best epoch= {str(index_loss + 1)}'  # label of lowest val_loss\n",
        "    acc_label = f'best epoch= {str(index_acc + 1)}'    # label of highest val_accuracy\n",
        "    plt.subplot(1, 2, 1)\n",
        "    plt.plot(Epochs, tr_loss, 'r', label= 'Training loss')\n",
        "    plt.plot(Epochs, val_loss, 'g', label= 'Validation loss')\n",
        "    plt.scatter(index_loss + 1, val_lowest, s= 150, c= 'blue', label= loss_label)\n",
        "    plt.title('Training and Validation Loss')\n",
        "    plt.xlabel('Epochs')\n",
        "    plt.ylabel('Loss')\n",
        "    plt.legend()\n",
        "    plt.subplot(1, 2, 2)\n",
        "    plt.plot(Epochs, tr_acc, 'r', label= 'Training Accuracy')\n",
        "    plt.plot(Epochs, val_acc, 'g', label= 'Validation Accuracy')\n",
        "    plt.scatter(index_acc + 1 , acc_highest, s= 150, c= 'blue', label= acc_label)\n",
        "    plt.title('Training and Validation Accuracy')\n",
        "    plt.xlabel('Epochs')\n",
        "    plt.ylabel('Accuracy')\n",
        "    plt.legend()\n",
        "    plt.tight_layout\n",
        "    plt.show()"
      ],
      "metadata": {
        "id": "YXIe8v4ZMxqC"
      },
      "execution_count": null,
      "outputs": []
    },
    {
      "cell_type": "code",
      "source": [
        "plot_training(history)"
      ],
      "metadata": {
        "colab": {
          "base_uri": "https://localhost:8080/",
          "height": 471
        },
        "id": "azxE-HdPMxmr",
        "outputId": "85bbe8b6-4556-4e42-ca04-8e686e8e313b"
      },
      "execution_count": null,
      "outputs": [
        {
          "output_type": "display_data",
          "data": {
            "text/plain": [
              "<Figure size 1440x576 with 2 Axes>"
            ],
            "image/png": "[encoded data removed]"
          },
          "metadata": {
            "needs_background": "light"
          }
        }
      ]
    },
    {
      "cell_type": "code",
      "source": [
        "# from keras.models import load_model\n",
        "# model = load_model('/kaggle/working/Final_Project/new_data/models/Ensemble/model.hdf5')"
      ],
      "metadata": {
        "id": "1-zI__4tFTP-"
      },
      "execution_count": null,
      "outputs": []
    },
    {
      "cell_type": "code",
      "source": [
        "a = model.evaluate(test_generator)"
      ],
      "metadata": {
        "colab": {
          "base_uri": "https://localhost:8080/"
        },
        "id": "sZXS730mFgz9",
        "outputId": "475d5a19-8b89-449d-9381-12b5874ab7bc"
      },
      "execution_count": null,
      "outputs": [
        {
          "output_type": "stream",
          "name": "stdout",
          "text": [
            "40/40 [==============================] - 93s 2s/step - loss: 0.3445 - accuracy: 0.8730 - precision: 0.2856 - recall: 1.0000\n"
          ]
        }
      ]
    },
    {
      "cell_type": "code",
      "source": [
        "import pickle\n",
        "\n",
        "# some_obj = {'loss':a[0], 'accuracy':a[1], 'precision':a[2], 'recall':a[3], 'cm':cm}\n",
        "some_obj = {'loss':a[0], 'accuracy':a[1], 'precision':a[2], 'recall':a[3]}"
      ],
      "metadata": {
        "id": "5uaveI83gFMk"
      },
      "execution_count": null,
      "outputs": []
    },
    {
      "cell_type": "code",
      "source": [
        "some_obj"
      ],
      "metadata": {
        "colab": {
          "base_uri": "https://localhost:8080/"
        },
        "id": "b8cprtY4gKNR",
        "outputId": "cde7e78e-d786-43da-8d82-afb8f854ba3a"
      },
      "execution_count": null,
      "outputs": [
        {
          "output_type": "execute_result",
          "data": {
            "text/plain": [
              "{'loss': 0.34448713064193726,\n",
              " 'accuracy': 0.8730158805847168,\n",
              " 'precision': 0.28558477759361267,\n",
              " 'recall': 1.0}"
            ]
          },
          "metadata": {},
          "execution_count": 79
        }
      ]
    },
    {
      "cell_type": "code",
      "source": [
        "with open('/content/drive/MyDrive/CSE572-DM/Final_Project/new_data/models/' + 'hybrid/' +'metrics.pickle', 'wb') as f:\n",
        "    pickle.dump(some_obj, f)"
      ],
      "metadata": {
        "id": "s8GxXFteFgws"
      },
      "execution_count": null,
      "outputs": []
    },
    {
      "cell_type": "code",
      "source": [
        "# !cp /content/*.hdf5 '/content/drive/MyDrive/CSE572-DM/Final_Project/new_data/models/hybrid/'"
      ],
      "metadata": {
        "id": "gDIvTs3MFgub"
      },
      "execution_count": null,
      "outputs": []
    },
    {
      "cell_type": "code",
      "source": [
        "# t = model.predict(test_generator)"
      ],
      "metadata": {
        "id": "MGU-RFEpftdS"
      },
      "execution_count": null,
      "outputs": []
    },
    {
      "cell_type": "code",
      "source": [
        "# true_labels = test_generator.classes\n",
        "# predictions = model.predict_generator(test_generator)"
      ],
      "metadata": {
        "id": "hc-_apI3nAKV"
      },
      "execution_count": null,
      "outputs": []
    },
    {
      "cell_type": "code",
      "source": [
        "# y_true = true_labels\n",
        "# y_pred = np.array([np.argmax(x) for x in predictions])"
      ],
      "metadata": {
        "id": "X5MBaKW7nAHb"
      },
      "execution_count": null,
      "outputs": []
    },
    {
      "cell_type": "code",
      "source": [
        "# from sklearn.metrics import confusion_matrix\n",
        "# cm = confusion_matrix(y_true, y_pred)"
      ],
      "metadata": {
        "id": "JU94JvyDnAEq"
      },
      "execution_count": null,
      "outputs": []
    },
    {
      "cell_type": "code",
      "source": [
        "# cm"
      ],
      "metadata": {
        "id": "N2oSgfEknJxT"
      },
      "execution_count": null,
      "outputs": []
    },
    {
      "cell_type": "code",
      "source": [
        "# import seaborn as sn\n",
        "# import pandas as pd\n",
        "# import matplotlib.pyplot as plt\n",
        "\n",
        "# df_cm = pd.DataFrame(cm, index = [i for i in \"ABCD\"],\n",
        "#                   columns = [i for i in \"ABCD\"])\n",
        "# plt.figure(figsize = (10,7))\n",
        "# sn.heatmap(df_cm, annot=True)"
      ],
      "metadata": {
        "id": "Li83Bu-EnJta"
      },
      "execution_count": null,
      "outputs": []
    },
    {
      "cell_type": "code",
      "source": [],
      "metadata": {
        "id": "87FB0_VgnUZO"
      },
      "execution_count": null,
      "outputs": []
    }
  ]
}